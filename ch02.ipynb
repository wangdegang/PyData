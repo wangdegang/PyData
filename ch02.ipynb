{
 "cells": [
  {
   "cell_type": "markdown",
   "metadata": {},
   "source": [
    "## Python Basics, IPython, and Jupyter Notebooks"
   ]
  },
  {
   "cell_type": "code",
   "execution_count": 1,
   "metadata": {},
   "outputs": [],
   "source": [
    "import numpy as np\n",
    "np.random.seed(3000)\n",
    "np.set_printoptions(precision= 4, suppress= True)"
   ]
  },
  {
   "cell_type": "code",
   "execution_count": 2,
   "metadata": {},
   "outputs": [
    {
     "data": {
      "text/plain": [
       "{1: 2.630205148875025,\n",
       " 2: 0.3316351819863362,\n",
       " 3: -0.9875397816970016,\n",
       " 4: 1.1965075922965722,\n",
       " 5: 1.705175553223562,\n",
       " 6: 0.1445730954556031,\n",
       " 7: -0.22478907766930878,\n",
       " 8: 0.22137285783275903,\n",
       " 9: 2.0621205951487904,\n",
       " 10: 2.3564549646579036}"
      ]
     },
     "execution_count": 2,
     "metadata": {},
     "output_type": "execute_result"
    }
   ],
   "source": [
    "data = {i : np.random.randn() for i in range(1, 11)}\n",
    "data"
   ]
  },
  {
   "cell_type": "code",
   "execution_count": 3,
   "metadata": {},
   "outputs": [
    {
     "name": "stdout",
     "output_type": "stream",
     "text": [
      "{1: 2.630205148875025, 2: 0.3316351819863362, 3: -0.9875397816970016, 4: 1.1965075922965722, 5: 1.705175553223562, 6: 0.1445730954556031, 7: -0.22478907766930878, 8: 0.22137285783275903, 9: 2.0621205951487904, 10: 2.3564549646579036}\n"
     ]
    }
   ],
   "source": [
    "print(data)"
   ]
  },
  {
   "cell_type": "code",
   "execution_count": null,
   "metadata": {},
   "outputs": [],
   "source": []
  }
 ],
 "metadata": {
  "kernelspec": {
   "display_name": "Python 3",
   "language": "python",
   "name": "python3"
  },
  "language_info": {
   "codemirror_mode": {
    "name": "ipython",
    "version": 3
   },
   "file_extension": ".py",
   "mimetype": "text/x-python",
   "name": "python",
   "nbconvert_exporter": "python",
   "pygments_lexer": "ipython3",
   "version": "3.6.1"
  }
 },
 "nbformat": 4,
 "nbformat_minor": 2
}
